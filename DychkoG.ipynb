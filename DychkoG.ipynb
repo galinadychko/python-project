{
 "cells": [
  {
   "cell_type": "markdown",
   "metadata": {},
   "source": [
    "# DataRoot University DS100 Test #2\n",
    "На проходження тесту виділяється 87 хвилин."
   ]
  },
  {
   "cell_type": "markdown",
   "metadata": {},
   "source": [
    "## Python"
   ]
  },
  {
   "cell_type": "markdown",
   "metadata": {},
   "source": [
    "### 1.  Реалізуйте функцію, яка повертає індекс кортежу, сума елементів якого є найбільшою серед кортежів в списку:\n",
    "У відповідь вивести результат роботи ф-ції для наступного списку:\n",
    "```\n",
    "[(10, 20), (40), (30, 56, 25), (10, 20), (33), (40), (42), (10, 42), (42), (1,2,3), (4,5,6), (10,11,12), (7,8,9)]\n",
    "```\n",
    "\n",
    "\n",
    "```\n",
    "```\n",
    "```\n",
    "```\n",
    "```\n",
    "```\n",
    "```\n",
    "Максимальна оцінка: 2 бали\n",
    "Рекомендований час: 5хв\n",
    "```"
   ]
  },
  {
   "cell_type": "code",
   "execution_count": 99,
   "metadata": {},
   "outputs": [
    {
     "name": "stdout",
     "output_type": "stream",
     "text": [
      "30\n",
      "[(0, (10, 20)), (1, 40), (2, (30, 56, 25)), (3, (10, 20)), (4, 33), (5, 40), (6, 42), (7, (10, 42)), (8, 42), (9, (1, 2, 3)), (10, (4, 5, 6)), (11, (10, 11, 12)), (12, (7, 8, 9))]\n",
      "<class 'int'>\n",
      "<class 'tuple'>\n"
     ]
    },
    {
     "ename": "TypeError",
     "evalue": "'int' object is not iterable",
     "output_type": "error",
     "traceback": [
      "\u001b[1;31m---------------------------------------------------------------------------\u001b[0m",
      "\u001b[1;31mTypeError\u001b[0m                                 Traceback (most recent call last)",
      "\u001b[1;32m<ipython-input-99-5989c6154abb>\u001b[0m in \u001b[0;36m<module>\u001b[1;34m()\u001b[0m\n\u001b[0;32m     14\u001b[0m     \u001b[1;32mreturn\u001b[0m \u001b[0md\u001b[0m\u001b[1;33m\u001b[0m\u001b[0m\n\u001b[0;32m     15\u001b[0m \u001b[1;33m\u001b[0m\u001b[0m\n\u001b[1;32m---> 16\u001b[1;33m \u001b[0mfunc\u001b[0m\u001b[1;33m(\u001b[0m\u001b[0mlis\u001b[0m\u001b[1;33m)\u001b[0m\u001b[1;33m\u001b[0m\u001b[0m\n\u001b[0m\u001b[0;32m     17\u001b[0m \u001b[1;33m\u001b[0m\u001b[0m\n\u001b[0;32m     18\u001b[0m \u001b[1;33m\u001b[0m\u001b[0m\n",
      "\u001b[1;32m<ipython-input-99-5989c6154abb>\u001b[0m in \u001b[0;36mfunc\u001b[1;34m(x)\u001b[0m\n\u001b[0;32m      8\u001b[0m     \u001b[1;32mfor\u001b[0m \u001b[0mi\u001b[0m \u001b[1;32min\u001b[0m \u001b[0mx\u001b[0m\u001b[1;33m:\u001b[0m\u001b[1;33m\u001b[0m\u001b[0m\n\u001b[0;32m      9\u001b[0m         \u001b[1;32mif\u001b[0m \u001b[0misinstance\u001b[0m\u001b[1;33m(\u001b[0m\u001b[0mi\u001b[0m\u001b[1;33m,\u001b[0m \u001b[0mint\u001b[0m\u001b[1;33m)\u001b[0m\u001b[1;33m:\u001b[0m\u001b[1;33m\u001b[0m\u001b[0m\n\u001b[1;32m---> 10\u001b[1;33m             \u001b[0ms\u001b[0m \u001b[1;33m=\u001b[0m \u001b[0mlist\u001b[0m\u001b[1;33m(\u001b[0m\u001b[0mi\u001b[0m\u001b[1;33m)\u001b[0m\u001b[1;33m\u001b[0m\u001b[0m\n\u001b[0m\u001b[0;32m     11\u001b[0m             \u001b[0mprint\u001b[0m\u001b[1;33m(\u001b[0m\u001b[0ms\u001b[0m\u001b[1;33m)\u001b[0m\u001b[1;33m\u001b[0m\u001b[0m\n\u001b[0;32m     12\u001b[0m         \u001b[0mprint\u001b[0m\u001b[1;33m(\u001b[0m\u001b[0mtype\u001b[0m\u001b[1;33m(\u001b[0m\u001b[0mi\u001b[0m\u001b[1;33m)\u001b[0m\u001b[1;33m)\u001b[0m\u001b[1;33m\u001b[0m\u001b[0m\n",
      "\u001b[1;31mTypeError\u001b[0m: 'int' object is not iterable"
     ]
    }
   ],
   "source": [
    "lis = [(10, 20), (40), (30, 56, 25), (10, 20), (33), (40), (42), (10, 42), (42), (1,2,3), (4,5,6), (10,11,12), (7,8,9)]\n",
    "print(sum(lis[0]))\n",
    "print(list(enumerate(lis)))\n",
    "print(type(lis.index((10,20))))\n",
    "def func(x):\n",
    "    #l1 = list(enumerate(x))\n",
    "    d = ()\n",
    "    for i in x:\n",
    "        if isinstance(i, int):\n",
    "            s = list(i)\n",
    "            print(s)\n",
    "        print(type(i))\n",
    "        #d += tuple((x.index(i), sum(i))) \n",
    "    return d\n",
    "\n",
    "func(lis)      \n",
    "    \n",
    "\n"
   ]
  },
  {
   "cell_type": "markdown",
   "metadata": {},
   "source": [
    "### 2.  Реалізуйте функцію str -> dict, таку, що ключем dict є слово, а значенням - його кількість в початковій str:\n",
    "У відповідь вивести результат роботи ф-ції для наступної строки:\n",
    "```\"Text mining, also referred to as text data mining, roughly equivalent to text analytics, is the process of deriving high-quality information from text. High-quality information is typically derived through the devising of patterns and trends through means such as statistical pattern learning. Text mining usually involves the process of structuring the input text (usually parsing, along with the addition of some derived linguistic features and the removal of others, and subsequent insertion into a database), deriving patterns within the structured data, and finally evaluation and interpretation of the output. 'High quality' in text mining usually refers to some combination of relevance, novelty, and interestingness.\"```\n",
    "\n",
    "```\n",
    "```\n",
    "```\n",
    "```\n",
    "```\n",
    "```\n",
    "```\n",
    "Максимальна оцінка: 2 бали\n",
    "Рекомендований час: 5хв\n",
    "```"
   ]
  },
  {
   "cell_type": "code",
   "execution_count": 25,
   "metadata": {},
   "outputs": [
    {
     "name": "stdout",
     "output_type": "stream",
     "text": [
      "['text mining', ' also referred to as text data mining', ' roughly equivalent to text analytics', ' is the process of deriving high-quality information from text. high-quality information is typically derived through the devising of patterns and trends through means such as statistical pattern learning. text mining usually involves the process of structuring the input text (usually parsing', ' along with the addition of some derived linguistic features and the removal of others', ' and subsequent insertion into a database)', ' deriving patterns within the structured data', \" and finally evaluation and interpretation of the output. 'high quality' in text mining usually refers to some combination of relevance\", ' novelty', ' and interestingness.']\n"
     ]
    }
   ],
   "source": [
    "s = \"Text mining, also referred to as text data mining, roughly equivalent to text analytics, is the process of deriving high-quality information from text. High-quality information is typically derived through the devising of patterns and trends through means such as statistical pattern learning. Text mining usually involves the process of structuring the input text (usually parsing, along with the addition of some derived linguistic features and the removal of others, and subsequent insertion into a database), deriving patterns within the structured data, and finally evaluation and interpretation of the output. 'High quality' in text mining usually refers to some combination of relevance, novelty, and interestingness.\"\n",
    " \n",
    "def f(x):\n",
    "    x = x.lower().strip()\n",
    "    x = x.split(\",\")\n",
    "    s = {}\n",
    "    for i in x:\n",
    "        s[]\n",
    "    print(x)\n",
    "\n",
    "f(s)"
   ]
  },
  {
   "cell_type": "markdown",
   "metadata": {},
   "source": [
    "### 3. Спортсмен почав тренування, пробігши в перший день N км (N - ціле). Кожен наступний день він зібльшував дистанцію пробігу на Р відсотків від дистанції пробігу попереднього дня(Р - дійсне, 0 < P < 50). По заданим Р, N, M, визначити, після якого дня сумарний пробіг спортсмена за всі дні буде вперше більшим, ніж M км (М - ціле, M > N). Вивести знайдену кількість днів К (K - ціле) і сумарний пробіг за К днів.\n",
    "\n",
    "```\n",
    "```\n",
    "```\n",
    "```\n",
    "```\n",
    "```\n",
    "```\n",
    "Максимальна оцінка: 3 бали\n",
    "Рекомендований час: 7хв\n",
    "```"
   ]
  },
  {
   "cell_type": "code",
   "execution_count": 30,
   "metadata": {},
   "outputs": [
    {
     "name": "stdout",
     "output_type": "stream",
     "text": [
      "кількість днів: 2 \n",
      " сумарний пробіг: 2.5\n"
     ]
    }
   ],
   "source": [
    "def func2(P, N, M):\n",
    "    nd = 1\n",
    "    NI = N\n",
    "    total = N\n",
    "    while True:\n",
    "        NI *= (1 + P/100)\n",
    "        nd += 1\n",
    "        total += NI\n",
    "        if total > M:\n",
    "            break\n",
    "    print(\"кількість днів:\", nd, \"\\n\", \"сумарний пробіг:\", total)\n",
    "\n",
    "func2(50, 1, 2)\n",
    "    "
   ]
  },
  {
   "cell_type": "markdown",
   "metadata": {},
   "source": [
    "### 4. Реалізуйте клас під назвою Triangle, побудований за трьома сторонами та містить два методи: обчислення площі та периметру.\n",
    "\n",
    "```\n",
    "```\n",
    "```\n",
    "```\n",
    "```\n",
    "```\n",
    "```\n",
    "Максимальна оцінка: 3 бали\n",
    "Рекомендований час: 5хв\n",
    "\n",
    "\n",
    "```"
   ]
  },
  {
   "cell_type": "code",
   "execution_count": 43,
   "metadata": {},
   "outputs": [
    {
     "name": "stdout",
     "output_type": "stream",
     "text": [
      "12\n",
      "6.0\n"
     ]
    }
   ],
   "source": [
    "import math \n",
    "\n",
    "class Triangle:\n",
    "    \n",
    "    def __init__(self, a, b, c):\n",
    "        self.a = a\n",
    "        self.b = b\n",
    "        self.c = c\n",
    "        \n",
    "    def per(self):\n",
    "        return(self.a + self.b + self.c)\n",
    "    \n",
    "    def sq(self):\n",
    "        p = self.per()/2\n",
    "        return(math.sqrt(p*(p - self.a)*(p - self.b)*(p - self.c)))\n",
    "    \n",
    "t1 = Triangle(3, 4, 5)\n",
    "print(t1.per())\n",
    "print(t1.sq())"
   ]
  },
  {
   "cell_type": "markdown",
   "metadata": {},
   "source": [
    "### 5.  Реалізуйте декоратор, який логує аргументи функцій та повернене значення кожного виклику. А при помилковому виклику відловдює та пише тип помилки. Необхідно виводити як позиційні(```*args```), так й іменовані аргументи(```**kwargs```):\n",
    "\n",
    "Приклад застосування вашого декоратору в результаті:\n",
    "```\n",
    ">>> @log\n",
    "... def func(*args):\n",
    "...   return len(args) + sum(args)\n",
    ">>> func(4, 4, 4)\n",
    "You called func(4, 4, 4)\n",
    "It returned 15\n",
    "15\n",
    "\n",
    ">>> func(4, 4, \"4\")\n",
    "You called func(4, 4, \"4\")\n",
    "It Raised TypeError\n",
    "```\n",
    "\n",
    "```\n",
    "```\n",
    "```\n",
    "```\n",
    "```\n",
    "```\n",
    "```\n",
    "Максимальна оцінка: 4 бали\n",
    "Рекомендований час: 15хв\n",
    "```"
   ]
  },
  {
   "cell_type": "code",
   "execution_count": 101,
   "metadata": {},
   "outputs": [
    {
     "name": "stdout",
     "output_type": "stream",
     "text": [
      "you called func((4, 4, '4'),{})\n",
      "It Raised TypeError\n"
     ]
    }
   ],
   "source": [
    "def log(func):\n",
    "    def funct(*x, **y):\n",
    "        print('you called func({},{})'.format(x, y))\n",
    "        try:\n",
    "            ret = func(*x, **y)                \n",
    "            print('it returned {}'.format(ret))\n",
    "        except:\n",
    "             print(\"It Raised TypeError\")\n",
    "    return funct\n",
    "\n",
    "@log\n",
    "def func(*args, **kword):\n",
    "    return len(args) + sum(args)\n",
    "\n",
    "func(4, 4, \"4\")"
   ]
  },
  {
   "cell_type": "markdown",
   "metadata": {
    "collapsed": true
   },
   "source": [
    "## Libraries: numpy, scipy, pandas, matplotlib"
   ]
  },
  {
   "cell_type": "markdown",
   "metadata": {},
   "source": [
    "### Numpy"
   ]
  },
  {
   "cell_type": "markdown",
   "metadata": {
    "collapsed": true
   },
   "source": [
    "### 6. Дана матриця:\n",
    "\\begin{align}\n",
    "A = \\begin{bmatrix}\n",
    "    17 & 24 & 1 & 8 & 15 \\\\\n",
    "    23 & 5 & 7 & 14 & 16 \\\\\n",
    "    4 & 6 & 13 & 20 & 22 \\\\\n",
    "    10 & 12 & 19 & 21 & 3 \\\\\n",
    "    11 & 18 & 25 & 2 & 9 \\\\\n",
    "\\end{bmatrix}\n",
    "\\end{align}\n",
    "\n",
    "\n",
    "#### Відніміть середнє арифметичне кожного рядку від кожного елементу у відповідному рядку:\n",
    "```\n",
    "```\n",
    "```\n",
    "```\n",
    "```\n",
    "```\n",
    "```\n",
    "Максимальна оцінка: 2 бали\n",
    "Рекомендований час: 5хв\n",
    "```"
   ]
  },
  {
   "cell_type": "code",
   "execution_count": 49,
   "metadata": {},
   "outputs": [
    {
     "data": {
      "text/plain": [
       "array([[  4.,  11., -12.,  -5.,   2.],\n",
       "       [ 10.,  -8.,  -6.,   1.,   3.],\n",
       "       [ -9.,  -7.,   0.,   7.,   9.],\n",
       "       [ -3.,  -1.,   6.,   8., -10.],\n",
       "       [ -2.,   5.,  12., -11.,  -4.]])"
      ]
     },
     "execution_count": 49,
     "metadata": {},
     "output_type": "execute_result"
    }
   ],
   "source": [
    "import numpy as np\n",
    "A = np.array([[17, 24, 1, 8, 15], [23, 5, 7, 14, 16], [4, 6, 13, 20, 22], [10, 12, 19, 21, 3], [11, 18, 25, 2, 9]])\n",
    "A - A.mean(axis = 0)\n"
   ]
  },
  {
   "cell_type": "markdown",
   "metadata": {},
   "source": [
    "### 7. Дано наступні матриці:\n",
    "\\begin{align}\n",
    "A = \\begin{bmatrix}\n",
    "    1 & 24 & 1 & 8 & 15 \\\\\n",
    "    -3 & 5 & 7 & -14 & 16 \\\\\n",
    "    4 & 6 & -3 & 20 & 2 \\\\\n",
    "    10 & 12 & 19 & 21 & 3 \\\\\n",
    "    1 & 1 & 2 & -2 & 0 \\\\\n",
    "\\end{bmatrix}\n",
    "\\end{align}\n",
    "\\begin{align}\n",
    "\\end{align}\n",
    "\\begin{align}\n",
    "B = \\begin{bmatrix}\n",
    "    17 & 24 & 1 & 8 & 15 \\\\\n",
    "    23 & 5 & 7 & 14 & 16 \\\\\n",
    "    4 & 6 & 13 & 20 & 22 \\\\\n",
    "    10 & 12 & 19 & 21 & 3 \\\\\n",
    "    11 & 18 & 25 & 2 & 9 \\\\\n",
    "\\end{bmatrix}\n",
    "\\end{align}\n",
    "Знайти:"
   ]
  },
  {
   "cell_type": "markdown",
   "metadata": {},
   "source": [
    "#### 7.1. $(A B)^{-1}B$\n",
    "\n",
    "```\n",
    "```\n",
    "```\n",
    "```\n",
    "```\n",
    "```\n",
    "```\n",
    "Максимальна оцінка: 1 бал\n",
    "Рекомендований час: 2хв\n",
    "```"
   ]
  },
  {
   "cell_type": "code",
   "execution_count": 56,
   "metadata": {},
   "outputs": [],
   "source": [
    "A = np.array([[1, 24, 1, 8, 15], [-3, 5, 7, -14, 16], [4, 6, -3, 20, 2], [10, 12, 19, 21, 3], [1, 1, 2, -2, 0]])\n",
    "B = np.array([[17, 24, 1, 8, 15], [23, 5, 7, 14, 16], [4, 6, 13, 20, 22], [10, 12, 19, 21, 3], [11, 18, 25, 2, 9 ]])\n",
    "AB = np.linalg.inv(np.dot(A, B)).dot(B)"
   ]
  },
  {
   "cell_type": "markdown",
   "metadata": {},
   "source": [
    "#### 7.2. Детермінант: $\\det ((A B)^{-1}B)$\n",
    "\n",
    "```\n",
    "```\n",
    "```\n",
    "```\n",
    "```\n",
    "```\n",
    "```\n",
    "Максимальна оцінка: 1 бал\n",
    "Рекомендований час: 2хв\n",
    "```"
   ]
  },
  {
   "cell_type": "code",
   "execution_count": 57,
   "metadata": {},
   "outputs": [
    {
     "data": {
      "text/plain": [
       "-9.3840321309260041e-06"
      ]
     },
     "execution_count": 57,
     "metadata": {},
     "output_type": "execute_result"
    }
   ],
   "source": [
    "np.linalg.det(AB)"
   ]
  },
  {
   "cell_type": "markdown",
   "metadata": {},
   "source": [
    "#### 7.3. Нормалізуйте: $(A B)^{-1}B$\n",
    "```\n",
    "```\n",
    "```\n",
    "```\n",
    "```\n",
    "```\n",
    "```\n",
    "Максимальна оцінка: 1 бал\n",
    "Рекомендований час: 2хв\n",
    "```"
   ]
  },
  {
   "cell_type": "code",
   "execution_count": 58,
   "metadata": {},
   "outputs": [
    {
     "name": "stdout",
     "output_type": "stream",
     "text": [
      "normalized: [[ 0.39517258  0.44607938  0.40690064  0.35244329  0.39266236]\n",
      " [ 0.63396803  0.73359054  1.          0.54153107  0.72747486]\n",
      " [ 0.24288602  0.12695266  0.          0.3418538   0.21885041]\n",
      " [ 0.28748497  0.26970343  0.20937153  0.33740549  0.2669964 ]\n",
      " [ 0.41413749  0.4187756   0.43057236  0.37942365  0.38197576]]\n"
     ]
    }
   ],
   "source": [
    "import numpy as np\n",
    "ABmax, ABmin = AB.max(), AB.min()\n",
    "AB = (AB - ABmin)/(ABmax - ABmin)\n",
    "print(\"normalized:\", AB)"
   ]
  },
  {
   "cell_type": "markdown",
   "metadata": {},
   "source": [
    "#### 7.4. Змініть матрицю B таким чином, щоб всі елементи k, такі що 3 < k < 16, змінили знак.\n",
    "```\n",
    "```\n",
    "```\n",
    "```\n",
    "```\n",
    "```\n",
    "```\n",
    "Максимальна оцінка: 3 бали\n",
    "Рекомендований час: 5хв\n",
    "```"
   ]
  },
  {
   "cell_type": "code",
   "execution_count": null,
   "metadata": {
    "collapsed": true
   },
   "outputs": [],
   "source": []
  },
  {
   "cell_type": "markdown",
   "metadata": {},
   "source": [
    "### Pandas"
   ]
  },
  {
   "cell_type": "markdown",
   "metadata": {},
   "source": [
    "### 8. Розглянемо наступний словник ```data``` та список ```labels```:"
   ]
  },
  {
   "cell_type": "code",
   "execution_count": 59,
   "metadata": {
    "collapsed": true
   },
   "outputs": [],
   "source": [
    "import numpy as np\n",
    "\n",
    "data = {'animal': ['cat', 'cat', 'snake', 'dog', 'dog', 'cat', 'snake', 'cat', 'dog', 'dog'],\n",
    "        'age': [2.5, 3, 0.5, np.nan, 5, 2, 4.5, np.nan, 7, 3],\n",
    "        'visits': [1, 3, 2, 3, 2, 3, 1, 1, 2, 1],\n",
    "        'priority': ['yes', 'yes', 'no', 'yes', 'no', 'no', 'no', 'yes', 'no', 'no']}\n",
    "\n",
    "labels = ['a', 'b', 'c', 'd', 'e', 'f', 'g', 'h', 'i', 'j']"
   ]
  },
  {
   "cell_type": "markdown",
   "metadata": {},
   "source": [
    "#### 8.1. Створіть ```DataFrame``` ```df``` з даних словника ```data``` з індексами зі списку ```labels```:\n",
    "```\n",
    "```\n",
    "```\n",
    "```\n",
    "```\n",
    "```\n",
    "```\n",
    "Максимальна оцінка: 1 бал\n",
    "Рекомендований час: 1хв\n",
    "```"
   ]
  },
  {
   "cell_type": "code",
   "execution_count": 60,
   "metadata": {},
   "outputs": [
    {
     "name": "stdout",
     "output_type": "stream",
     "text": [
      "   age animal priority  visits\n",
      "a  2.5    cat      yes       1\n",
      "b  3.0    cat      yes       3\n",
      "c  0.5  snake       no       2\n",
      "d  NaN    dog      yes       3\n",
      "e  5.0    dog       no       2\n",
      "f  2.0    cat       no       3\n",
      "g  4.5  snake       no       1\n",
      "h  NaN    cat      yes       1\n",
      "i  7.0    dog       no       2\n",
      "j  3.0    dog       no       1\n"
     ]
    }
   ],
   "source": [
    "import pandas as pd\n",
    "df = pd.DataFrame(data = data, index = labels)\n",
    "print(df)"
   ]
  },
  {
   "cell_type": "markdown",
   "metadata": {},
   "source": [
    "#### 8.2. Відобрзіть базову інформацію про цей ```DataFrame``` та його дані:\n",
    "```\n",
    "```\n",
    "```\n",
    "```\n",
    "```\n",
    "```\n",
    "```\n",
    "Максимальна оцінка: 1 бал\n",
    "Рекомендований час: 1хв\n",
    "```"
   ]
  },
  {
   "cell_type": "code",
   "execution_count": 63,
   "metadata": {},
   "outputs": [
    {
     "name": "stdout",
     "output_type": "stream",
     "text": [
      "<class 'pandas.core.frame.DataFrame'>\n",
      "Index: 10 entries, a to j\n",
      "Data columns (total 4 columns):\n",
      "age         8 non-null float64\n",
      "animal      10 non-null object\n",
      "priority    10 non-null object\n",
      "visits      10 non-null int64\n",
      "dtypes: float64(1), int64(1), object(2)\n",
      "memory usage: 400.0+ bytes\n",
      "None\n",
      "(10, 4)\n"
     ]
    }
   ],
   "source": [
    "print(df.info())\n",
    "print(df.shape)"
   ]
  },
  {
   "cell_type": "markdown",
   "metadata": {},
   "source": [
    "#### 8.3. Поверніть перші 3 рядки ```DataFrame``` ```df```:\n",
    "```\n",
    "```\n",
    "```\n",
    "```\n",
    "```\n",
    "```\n",
    "```\n",
    "Максимальна оцінка: 1 бал\n",
    "Рекомендований час: 1хв\n",
    "```"
   ]
  },
  {
   "cell_type": "code",
   "execution_count": 64,
   "metadata": {},
   "outputs": [
    {
     "data": {
      "text/html": [
       "<div>\n",
       "<style>\n",
       "    .dataframe thead tr:only-child th {\n",
       "        text-align: right;\n",
       "    }\n",
       "\n",
       "    .dataframe thead th {\n",
       "        text-align: left;\n",
       "    }\n",
       "\n",
       "    .dataframe tbody tr th {\n",
       "        vertical-align: top;\n",
       "    }\n",
       "</style>\n",
       "<table border=\"1\" class=\"dataframe\">\n",
       "  <thead>\n",
       "    <tr style=\"text-align: right;\">\n",
       "      <th></th>\n",
       "      <th>age</th>\n",
       "      <th>animal</th>\n",
       "      <th>priority</th>\n",
       "      <th>visits</th>\n",
       "    </tr>\n",
       "  </thead>\n",
       "  <tbody>\n",
       "    <tr>\n",
       "      <th>a</th>\n",
       "      <td>2.5</td>\n",
       "      <td>cat</td>\n",
       "      <td>yes</td>\n",
       "      <td>1</td>\n",
       "    </tr>\n",
       "    <tr>\n",
       "      <th>b</th>\n",
       "      <td>3.0</td>\n",
       "      <td>cat</td>\n",
       "      <td>yes</td>\n",
       "      <td>3</td>\n",
       "    </tr>\n",
       "    <tr>\n",
       "      <th>c</th>\n",
       "      <td>0.5</td>\n",
       "      <td>snake</td>\n",
       "      <td>no</td>\n",
       "      <td>2</td>\n",
       "    </tr>\n",
       "  </tbody>\n",
       "</table>\n",
       "</div>"
      ],
      "text/plain": [
       "   age animal priority  visits\n",
       "a  2.5    cat      yes       1\n",
       "b  3.0    cat      yes       3\n",
       "c  0.5  snake       no       2"
      ]
     },
     "execution_count": 64,
     "metadata": {},
     "output_type": "execute_result"
    }
   ],
   "source": [
    "df.head(3)"
   ]
  },
  {
   "cell_type": "markdown",
   "metadata": {},
   "source": [
    "#### 8.4. Виберіть стовпчики ```\"animal\"``` та ```\"age\"``` з ```DataFrame``` ```df```:\n",
    "```\n",
    "```\n",
    "```\n",
    "```\n",
    "```\n",
    "```\n",
    "```\n",
    "Максимальна оцінка: 1 бал\n",
    "Рекомендований час: 1хв\n",
    "```"
   ]
  },
  {
   "cell_type": "code",
   "execution_count": 65,
   "metadata": {},
   "outputs": [
    {
     "data": {
      "text/html": [
       "<div>\n",
       "<style>\n",
       "    .dataframe thead tr:only-child th {\n",
       "        text-align: right;\n",
       "    }\n",
       "\n",
       "    .dataframe thead th {\n",
       "        text-align: left;\n",
       "    }\n",
       "\n",
       "    .dataframe tbody tr th {\n",
       "        vertical-align: top;\n",
       "    }\n",
       "</style>\n",
       "<table border=\"1\" class=\"dataframe\">\n",
       "  <thead>\n",
       "    <tr style=\"text-align: right;\">\n",
       "      <th></th>\n",
       "      <th>animal</th>\n",
       "      <th>age</th>\n",
       "    </tr>\n",
       "  </thead>\n",
       "  <tbody>\n",
       "    <tr>\n",
       "      <th>a</th>\n",
       "      <td>cat</td>\n",
       "      <td>2.5</td>\n",
       "    </tr>\n",
       "    <tr>\n",
       "      <th>b</th>\n",
       "      <td>cat</td>\n",
       "      <td>3.0</td>\n",
       "    </tr>\n",
       "    <tr>\n",
       "      <th>c</th>\n",
       "      <td>snake</td>\n",
       "      <td>0.5</td>\n",
       "    </tr>\n",
       "    <tr>\n",
       "      <th>d</th>\n",
       "      <td>dog</td>\n",
       "      <td>NaN</td>\n",
       "    </tr>\n",
       "    <tr>\n",
       "      <th>e</th>\n",
       "      <td>dog</td>\n",
       "      <td>5.0</td>\n",
       "    </tr>\n",
       "    <tr>\n",
       "      <th>f</th>\n",
       "      <td>cat</td>\n",
       "      <td>2.0</td>\n",
       "    </tr>\n",
       "    <tr>\n",
       "      <th>g</th>\n",
       "      <td>snake</td>\n",
       "      <td>4.5</td>\n",
       "    </tr>\n",
       "    <tr>\n",
       "      <th>h</th>\n",
       "      <td>cat</td>\n",
       "      <td>NaN</td>\n",
       "    </tr>\n",
       "    <tr>\n",
       "      <th>i</th>\n",
       "      <td>dog</td>\n",
       "      <td>7.0</td>\n",
       "    </tr>\n",
       "    <tr>\n",
       "      <th>j</th>\n",
       "      <td>dog</td>\n",
       "      <td>3.0</td>\n",
       "    </tr>\n",
       "  </tbody>\n",
       "</table>\n",
       "</div>"
      ],
      "text/plain": [
       "  animal  age\n",
       "a    cat  2.5\n",
       "b    cat  3.0\n",
       "c  snake  0.5\n",
       "d    dog  NaN\n",
       "e    dog  5.0\n",
       "f    cat  2.0\n",
       "g  snake  4.5\n",
       "h    cat  NaN\n",
       "i    dog  7.0\n",
       "j    dog  3.0"
      ]
     },
     "execution_count": 65,
     "metadata": {},
     "output_type": "execute_result"
    }
   ],
   "source": [
    "df[[\"animal\", \"age\"]]"
   ]
  },
  {
   "cell_type": "markdown",
   "metadata": {},
   "source": [
    "#### 8.5 Виберіть дані з рядків ```[3, 4, 8]``` та стовпчиків ```['animal', 'age']```:\n",
    "```\n",
    "```\n",
    "```\n",
    "```\n",
    "```\n",
    "```\n",
    "```\n",
    "Максимальна оцінка: 1 бал\n",
    "Рекомендований час: 1хв\n",
    "```"
   ]
  },
  {
   "cell_type": "code",
   "execution_count": 67,
   "metadata": {},
   "outputs": [
    {
     "data": {
      "text/html": [
       "<div>\n",
       "<style>\n",
       "    .dataframe thead tr:only-child th {\n",
       "        text-align: right;\n",
       "    }\n",
       "\n",
       "    .dataframe thead th {\n",
       "        text-align: left;\n",
       "    }\n",
       "\n",
       "    .dataframe tbody tr th {\n",
       "        vertical-align: top;\n",
       "    }\n",
       "</style>\n",
       "<table border=\"1\" class=\"dataframe\">\n",
       "  <thead>\n",
       "    <tr style=\"text-align: right;\">\n",
       "      <th></th>\n",
       "      <th>animal</th>\n",
       "      <th>age</th>\n",
       "    </tr>\n",
       "  </thead>\n",
       "  <tbody>\n",
       "    <tr>\n",
       "      <th>d</th>\n",
       "      <td>dog</td>\n",
       "      <td>NaN</td>\n",
       "    </tr>\n",
       "    <tr>\n",
       "      <th>e</th>\n",
       "      <td>dog</td>\n",
       "      <td>5.0</td>\n",
       "    </tr>\n",
       "    <tr>\n",
       "      <th>i</th>\n",
       "      <td>dog</td>\n",
       "      <td>7.0</td>\n",
       "    </tr>\n",
       "  </tbody>\n",
       "</table>\n",
       "</div>"
      ],
      "text/plain": [
       "  animal  age\n",
       "d    dog  NaN\n",
       "e    dog  5.0\n",
       "i    dog  7.0"
      ]
     },
     "execution_count": 67,
     "metadata": {},
     "output_type": "execute_result"
    }
   ],
   "source": [
    "df.ix[[3, 4, 8], [\"animal\", \"age\"]]"
   ]
  },
  {
   "cell_type": "markdown",
   "metadata": {},
   "source": [
    "#### 8.6. Виберіть лише ті рядки, в яких к-сть візитів більша ніж 3:\n",
    "```\n",
    "```\n",
    "```\n",
    "```\n",
    "```\n",
    "```\n",
    "```\n",
    "Максимальна оцінка: 1 бал\n",
    "Рекомендований час: 1хв\n",
    "```"
   ]
  },
  {
   "cell_type": "code",
   "execution_count": 68,
   "metadata": {},
   "outputs": [
    {
     "data": {
      "text/html": [
       "<div>\n",
       "<style>\n",
       "    .dataframe thead tr:only-child th {\n",
       "        text-align: right;\n",
       "    }\n",
       "\n",
       "    .dataframe thead th {\n",
       "        text-align: left;\n",
       "    }\n",
       "\n",
       "    .dataframe tbody tr th {\n",
       "        vertical-align: top;\n",
       "    }\n",
       "</style>\n",
       "<table border=\"1\" class=\"dataframe\">\n",
       "  <thead>\n",
       "    <tr style=\"text-align: right;\">\n",
       "      <th></th>\n",
       "      <th>age</th>\n",
       "      <th>animal</th>\n",
       "      <th>priority</th>\n",
       "      <th>visits</th>\n",
       "    </tr>\n",
       "  </thead>\n",
       "  <tbody>\n",
       "  </tbody>\n",
       "</table>\n",
       "</div>"
      ],
      "text/plain": [
       "Empty DataFrame\n",
       "Columns: [age, animal, priority, visits]\n",
       "Index: []"
      ]
     },
     "execution_count": 68,
     "metadata": {},
     "output_type": "execute_result"
    }
   ],
   "source": [
    "df[df.visits > 3]"
   ]
  },
  {
   "cell_type": "markdown",
   "metadata": {},
   "source": [
    "#### 8.7. Виберіть рядки, де вік відсутній, тобто ```NaN```:\n",
    "```\n",
    "```\n",
    "```\n",
    "```\n",
    "```\n",
    "```\n",
    "```\n",
    "Максимальна оцінка: 1 бал\n",
    "Рекомендований час: 1хв\n",
    "```"
   ]
  },
  {
   "cell_type": "code",
   "execution_count": 69,
   "metadata": {},
   "outputs": [
    {
     "data": {
      "text/html": [
       "<div>\n",
       "<style>\n",
       "    .dataframe thead tr:only-child th {\n",
       "        text-align: right;\n",
       "    }\n",
       "\n",
       "    .dataframe thead th {\n",
       "        text-align: left;\n",
       "    }\n",
       "\n",
       "    .dataframe tbody tr th {\n",
       "        vertical-align: top;\n",
       "    }\n",
       "</style>\n",
       "<table border=\"1\" class=\"dataframe\">\n",
       "  <thead>\n",
       "    <tr style=\"text-align: right;\">\n",
       "      <th></th>\n",
       "      <th>age</th>\n",
       "      <th>animal</th>\n",
       "      <th>priority</th>\n",
       "      <th>visits</th>\n",
       "    </tr>\n",
       "  </thead>\n",
       "  <tbody>\n",
       "    <tr>\n",
       "      <th>d</th>\n",
       "      <td>NaN</td>\n",
       "      <td>dog</td>\n",
       "      <td>yes</td>\n",
       "      <td>3</td>\n",
       "    </tr>\n",
       "    <tr>\n",
       "      <th>h</th>\n",
       "      <td>NaN</td>\n",
       "      <td>cat</td>\n",
       "      <td>yes</td>\n",
       "      <td>1</td>\n",
       "    </tr>\n",
       "  </tbody>\n",
       "</table>\n",
       "</div>"
      ],
      "text/plain": [
       "   age animal priority  visits\n",
       "d  NaN    dog      yes       3\n",
       "h  NaN    cat      yes       1"
      ]
     },
     "execution_count": 69,
     "metadata": {},
     "output_type": "execute_result"
    }
   ],
   "source": [
    "df[pd.isnull(df.age)]"
   ]
  },
  {
   "cell_type": "markdown",
   "metadata": {},
   "source": [
    "#### 8.8. Виберіть рядки з котами, вік яких більше ніж 2:\n",
    "```\n",
    "```\n",
    "```\n",
    "```\n",
    "```\n",
    "```\n",
    "```\n",
    "Максимальна оцінка: 1 бал\n",
    "Рекомендований час: 1хв\n",
    "```"
   ]
  },
  {
   "cell_type": "code",
   "execution_count": 70,
   "metadata": {},
   "outputs": [
    {
     "data": {
      "text/html": [
       "<div>\n",
       "<style>\n",
       "    .dataframe thead tr:only-child th {\n",
       "        text-align: right;\n",
       "    }\n",
       "\n",
       "    .dataframe thead th {\n",
       "        text-align: left;\n",
       "    }\n",
       "\n",
       "    .dataframe tbody tr th {\n",
       "        vertical-align: top;\n",
       "    }\n",
       "</style>\n",
       "<table border=\"1\" class=\"dataframe\">\n",
       "  <thead>\n",
       "    <tr style=\"text-align: right;\">\n",
       "      <th></th>\n",
       "      <th>age</th>\n",
       "      <th>animal</th>\n",
       "      <th>priority</th>\n",
       "      <th>visits</th>\n",
       "    </tr>\n",
       "  </thead>\n",
       "  <tbody>\n",
       "    <tr>\n",
       "      <th>a</th>\n",
       "      <td>2.5</td>\n",
       "      <td>cat</td>\n",
       "      <td>yes</td>\n",
       "      <td>1</td>\n",
       "    </tr>\n",
       "    <tr>\n",
       "      <th>b</th>\n",
       "      <td>3.0</td>\n",
       "      <td>cat</td>\n",
       "      <td>yes</td>\n",
       "      <td>3</td>\n",
       "    </tr>\n",
       "  </tbody>\n",
       "</table>\n",
       "</div>"
      ],
      "text/plain": [
       "   age animal priority  visits\n",
       "a  2.5    cat      yes       1\n",
       "b  3.0    cat      yes       3"
      ]
     },
     "execution_count": 70,
     "metadata": {},
     "output_type": "execute_result"
    }
   ],
   "source": [
    "df[(df.animal == \"cat\") & (df.age > 2)]"
   ]
  },
  {
   "cell_type": "markdown",
   "metadata": {},
   "source": [
    "#### 8.9. Підрахуйте середній вік для кожного з типів тварин:\n",
    "```\n",
    "```\n",
    "```\n",
    "```\n",
    "```\n",
    "```\n",
    "```\n",
    "Максимальна оцінка: 2 бали\n",
    "Рекомендований час: 2хв\n",
    "```"
   ]
  },
  {
   "cell_type": "code",
   "execution_count": 71,
   "metadata": {},
   "outputs": [
    {
     "name": "stdout",
     "output_type": "stream",
     "text": [
      "first way\n",
      "mean for cats: 2.5\n",
      "mean for dogs: 5.0\n",
      "mean for snakes: 2.5\n",
      "fsecond way\n"
     ]
    },
    {
     "data": {
      "text/plain": [
       "animal\n",
       "cat      2.5\n",
       "dog      5.0\n",
       "snake    2.5\n",
       "Name: age, dtype: float64"
      ]
     },
     "execution_count": 71,
     "metadata": {},
     "output_type": "execute_result"
    }
   ],
   "source": [
    "#first way\n",
    "print(\"first way\")\n",
    "mcat = np.mean(df[df.animal == \"cat\"].age)\n",
    "print(\"mean for cats:\", mcat)\n",
    "mdog = np.mean(df[df.animal == \"dog\"].age)\n",
    "print(\"mean for dogs:\", mdog)\n",
    "msn = np.mean(df[df.animal == \"snake\"].age)\n",
    "print(\"mean for snakes:\", msn)\n",
    "\n",
    "#second way\n",
    "print(\"fsecond way\")\n",
    "df.groupby('animal').mean().age"
   ]
  },
  {
   "cell_type": "markdown",
   "metadata": {},
   "source": [
    "#### 8.10. Відсортуйте ```df``` по-перше за віком в спадаючому порядку, по-друге за к-стю візитів в зростаючому порядку:\n",
    "```\n",
    "```\n",
    "```\n",
    "```\n",
    "```\n",
    "```\n",
    "```\n",
    "Максимальна оцінка: 2 бали\n",
    "Рекомендований час: 2хв\n",
    "```"
   ]
  },
  {
   "cell_type": "code",
   "execution_count": 72,
   "metadata": {},
   "outputs": [
    {
     "data": {
      "text/html": [
       "<div>\n",
       "<style>\n",
       "    .dataframe thead tr:only-child th {\n",
       "        text-align: right;\n",
       "    }\n",
       "\n",
       "    .dataframe thead th {\n",
       "        text-align: left;\n",
       "    }\n",
       "\n",
       "    .dataframe tbody tr th {\n",
       "        vertical-align: top;\n",
       "    }\n",
       "</style>\n",
       "<table border=\"1\" class=\"dataframe\">\n",
       "  <thead>\n",
       "    <tr style=\"text-align: right;\">\n",
       "      <th></th>\n",
       "      <th>age</th>\n",
       "      <th>animal</th>\n",
       "      <th>priority</th>\n",
       "      <th>visits</th>\n",
       "    </tr>\n",
       "  </thead>\n",
       "  <tbody>\n",
       "    <tr>\n",
       "      <th>i</th>\n",
       "      <td>7.0</td>\n",
       "      <td>dog</td>\n",
       "      <td>no</td>\n",
       "      <td>2</td>\n",
       "    </tr>\n",
       "    <tr>\n",
       "      <th>e</th>\n",
       "      <td>5.0</td>\n",
       "      <td>dog</td>\n",
       "      <td>no</td>\n",
       "      <td>2</td>\n",
       "    </tr>\n",
       "    <tr>\n",
       "      <th>g</th>\n",
       "      <td>4.5</td>\n",
       "      <td>snake</td>\n",
       "      <td>no</td>\n",
       "      <td>1</td>\n",
       "    </tr>\n",
       "    <tr>\n",
       "      <th>j</th>\n",
       "      <td>3.0</td>\n",
       "      <td>dog</td>\n",
       "      <td>no</td>\n",
       "      <td>1</td>\n",
       "    </tr>\n",
       "    <tr>\n",
       "      <th>b</th>\n",
       "      <td>3.0</td>\n",
       "      <td>cat</td>\n",
       "      <td>yes</td>\n",
       "      <td>3</td>\n",
       "    </tr>\n",
       "    <tr>\n",
       "      <th>a</th>\n",
       "      <td>2.5</td>\n",
       "      <td>cat</td>\n",
       "      <td>yes</td>\n",
       "      <td>1</td>\n",
       "    </tr>\n",
       "    <tr>\n",
       "      <th>f</th>\n",
       "      <td>2.0</td>\n",
       "      <td>cat</td>\n",
       "      <td>no</td>\n",
       "      <td>3</td>\n",
       "    </tr>\n",
       "    <tr>\n",
       "      <th>c</th>\n",
       "      <td>0.5</td>\n",
       "      <td>snake</td>\n",
       "      <td>no</td>\n",
       "      <td>2</td>\n",
       "    </tr>\n",
       "    <tr>\n",
       "      <th>h</th>\n",
       "      <td>NaN</td>\n",
       "      <td>cat</td>\n",
       "      <td>yes</td>\n",
       "      <td>1</td>\n",
       "    </tr>\n",
       "    <tr>\n",
       "      <th>d</th>\n",
       "      <td>NaN</td>\n",
       "      <td>dog</td>\n",
       "      <td>yes</td>\n",
       "      <td>3</td>\n",
       "    </tr>\n",
       "  </tbody>\n",
       "</table>\n",
       "</div>"
      ],
      "text/plain": [
       "   age animal priority  visits\n",
       "i  7.0    dog       no       2\n",
       "e  5.0    dog       no       2\n",
       "g  4.5  snake       no       1\n",
       "j  3.0    dog       no       1\n",
       "b  3.0    cat      yes       3\n",
       "a  2.5    cat      yes       1\n",
       "f  2.0    cat       no       3\n",
       "c  0.5  snake       no       2\n",
       "h  NaN    cat      yes       1\n",
       "d  NaN    dog      yes       3"
      ]
     },
     "execution_count": 72,
     "metadata": {},
     "output_type": "execute_result"
    }
   ],
   "source": [
    "df.sort_values(by = ['age', 'visits'], ascending=[False, True])"
   ]
  },
  {
   "cell_type": "markdown",
   "metadata": {},
   "source": [
    "#### 8.11. Стовпець \"priority\" містить значення \"yes\" та \"no\". Замінити цей стовпець стовпчиком булевих значень: \"yes\" на True, а \"no\" на False:\n",
    "```\n",
    "```\n",
    "```\n",
    "```\n",
    "```\n",
    "```\n",
    "```\n",
    "Максимальна оцінка: 2 бали\n",
    "Рекомендований час: 2хв\n",
    "\n",
    "```"
   ]
  },
  {
   "cell_type": "code",
   "execution_count": 73,
   "metadata": {},
   "outputs": [
    {
     "name": "stdout",
     "output_type": "stream",
     "text": [
      "   age animal priority  visits\n",
      "a  2.5    cat      yes       1\n",
      "b  3.0    cat      yes       3\n",
      "c  0.5  snake       no       2\n",
      "d  NaN    dog      yes       3\n",
      "e  5.0    dog       no       2\n",
      "f  2.0    cat       no       3\n",
      "g  4.5  snake       no       1\n",
      "h  NaN    cat      yes       1\n",
      "i  7.0    dog       no       2\n",
      "j  3.0    dog       no       1\n"
     ]
    },
    {
     "name": "stderr",
     "output_type": "stream",
     "text": [
      "C:\\ProgramData\\Anaconda3\\lib\\site-packages\\pandas\\core\\generic.py:3110: SettingWithCopyWarning: \n",
      "A value is trying to be set on a copy of a slice from a DataFrame.\n",
      "Try using .loc[row_indexer,col_indexer] = value instead\n",
      "\n",
      "See the caveats in the documentation: http://pandas.pydata.org/pandas-docs/stable/indexing.html#indexing-view-versus-copy\n",
      "  self[name] = value\n"
     ]
    },
    {
     "data": {
      "text/html": [
       "<div>\n",
       "<style>\n",
       "    .dataframe thead tr:only-child th {\n",
       "        text-align: right;\n",
       "    }\n",
       "\n",
       "    .dataframe thead th {\n",
       "        text-align: left;\n",
       "    }\n",
       "\n",
       "    .dataframe tbody tr th {\n",
       "        vertical-align: top;\n",
       "    }\n",
       "</style>\n",
       "<table border=\"1\" class=\"dataframe\">\n",
       "  <thead>\n",
       "    <tr style=\"text-align: right;\">\n",
       "      <th></th>\n",
       "      <th>age</th>\n",
       "      <th>animal</th>\n",
       "      <th>priority</th>\n",
       "      <th>visits</th>\n",
       "    </tr>\n",
       "  </thead>\n",
       "  <tbody>\n",
       "    <tr>\n",
       "      <th>a</th>\n",
       "      <td>2.5</td>\n",
       "      <td>cat</td>\n",
       "      <td>True</td>\n",
       "      <td>1</td>\n",
       "    </tr>\n",
       "    <tr>\n",
       "      <th>b</th>\n",
       "      <td>3.0</td>\n",
       "      <td>cat</td>\n",
       "      <td>True</td>\n",
       "      <td>3</td>\n",
       "    </tr>\n",
       "    <tr>\n",
       "      <th>c</th>\n",
       "      <td>0.5</td>\n",
       "      <td>snake</td>\n",
       "      <td>False</td>\n",
       "      <td>2</td>\n",
       "    </tr>\n",
       "    <tr>\n",
       "      <th>d</th>\n",
       "      <td>NaN</td>\n",
       "      <td>dog</td>\n",
       "      <td>True</td>\n",
       "      <td>3</td>\n",
       "    </tr>\n",
       "    <tr>\n",
       "      <th>e</th>\n",
       "      <td>5.0</td>\n",
       "      <td>dog</td>\n",
       "      <td>False</td>\n",
       "      <td>2</td>\n",
       "    </tr>\n",
       "    <tr>\n",
       "      <th>f</th>\n",
       "      <td>2.0</td>\n",
       "      <td>cat</td>\n",
       "      <td>False</td>\n",
       "      <td>3</td>\n",
       "    </tr>\n",
       "    <tr>\n",
       "      <th>g</th>\n",
       "      <td>4.5</td>\n",
       "      <td>snake</td>\n",
       "      <td>False</td>\n",
       "      <td>1</td>\n",
       "    </tr>\n",
       "    <tr>\n",
       "      <th>h</th>\n",
       "      <td>NaN</td>\n",
       "      <td>cat</td>\n",
       "      <td>True</td>\n",
       "      <td>1</td>\n",
       "    </tr>\n",
       "    <tr>\n",
       "      <th>i</th>\n",
       "      <td>7.0</td>\n",
       "      <td>dog</td>\n",
       "      <td>False</td>\n",
       "      <td>2</td>\n",
       "    </tr>\n",
       "    <tr>\n",
       "      <th>j</th>\n",
       "      <td>3.0</td>\n",
       "      <td>dog</td>\n",
       "      <td>False</td>\n",
       "      <td>1</td>\n",
       "    </tr>\n",
       "  </tbody>\n",
       "</table>\n",
       "</div>"
      ],
      "text/plain": [
       "   age animal  priority  visits\n",
       "a  2.5    cat      True       1\n",
       "b  3.0    cat      True       3\n",
       "c  0.5  snake     False       2\n",
       "d  NaN    dog      True       3\n",
       "e  5.0    dog     False       2\n",
       "f  2.0    cat     False       3\n",
       "g  4.5  snake     False       1\n",
       "h  NaN    cat      True       1\n",
       "i  7.0    dog     False       2\n",
       "j  3.0    dog     False       1"
      ]
     },
     "execution_count": 73,
     "metadata": {},
     "output_type": "execute_result"
    }
   ],
   "source": [
    "#first way\n",
    "df[df.priority == \"yes\"].priority = True\n",
    "df[df.priority == \"no\"].priority = False\n",
    "print(df)\n",
    "\n",
    "#second way\n",
    "df['priority'].replace('yes', True, inplace=True)\n",
    "df['priority'].replace('no', False, inplace=True)\n",
    "df"
   ]
  },
  {
   "cell_type": "markdown",
   "metadata": {},
   "source": [
    "## Scipy & Matplotlib"
   ]
  },
  {
   "cell_type": "markdown",
   "metadata": {},
   "source": [
    "### 9. За допомогою scipy згенерувати та за допомогою matplotlib побудувати функцію розподілу ймовірностей для вибірок, правильно підписавши осі та назвавши графік з обраними відповідними параметрами:"
   ]
  },
  {
   "cell_type": "markdown",
   "metadata": {},
   "source": [
    "#### 9.1. Для виібрки з нормально розподіленої випадкової величини:\n",
    "```\n",
    "```\n",
    "```\n",
    "```\n",
    "```\n",
    "```\n",
    "```\n",
    "Максимальна оцінка: 3 бали\n",
    "Рекомендований час: 5хв\n",
    "```"
   ]
  },
  {
   "cell_type": "code",
   "execution_count": 78,
   "metadata": {},
   "outputs": [
    {
     "data": {
      "image/png": "[encoded data removed]",
      "text/plain": [
       "<matplotlib.figure.Figure at 0x1cd580ca7f0>"
      ]
     },
     "metadata": {},
     "output_type": "display_data"
    }
   ],
   "source": [
    "import pandas as pd\n",
    "import numpy as np\n",
    "import matplotlib.pyplot as plt\n",
    "import scipy.stats as sts\n",
    "%matplotlib inline\n",
    "norm_rv = sts.norm(loc=0, scale=1)\n",
    "x = np.linspace(-4,4,100)\n",
    "cdf = norm_rv.cdf(x)\n",
    "plt.step(x, cdf)\n",
    "plt.title(\"Normal distribution with 0 mean and 1 variance\")\n",
    "plt.ylabel('$P(x)$')\n",
    "plt.xlabel('$x$')\n",
    "plt.show()"
   ]
  },
  {
   "cell_type": "markdown",
   "metadata": {},
   "source": [
    "#### 9.2. Для вибірки з розподілу Бернулі:\n",
    "```\n",
    "```\n",
    "```\n",
    "```\n",
    "```\n",
    "```\n",
    "```\n",
    "Максимальна оцінка: 3 бали\n",
    "Рекомендований час: 5хв\n",
    "```"
   ]
  },
  {
   "cell_type": "code",
   "execution_count": 80,
   "metadata": {},
   "outputs": [
    {
     "data": {
      "image/png": "[encoded data removed]",
      "text/plain": [
       "<matplotlib.figure.Figure at 0x1cd58439b38>"
      ]
     },
     "metadata": {},
     "output_type": "display_data"
    }
   ],
   "source": [
    "bernoulli_rv = sts.bernoulli(0.7)\n",
    "x = np.linspace(0,4,100)\n",
    "cdf = bernoulli_rv.cdf(x)\n",
    "plt.step(x, cdf)\n",
    "plt.title(\"Bernulli distribution with probabbility 0.7\")\n",
    "plt.ylabel('$P(x)$')\n",
    "plt.xlabel('$x$')\n",
    "plt.show()\n"
   ]
  },
  {
   "cell_type": "markdown",
   "metadata": {},
   "source": [
    "#### 9.3. Для вибірки з біноміального розподілу:\n",
    "```\n",
    "```\n",
    "```\n",
    "```\n",
    "```\n",
    "```\n",
    "```\n",
    "Максимальна оцінка: 3 бали\n",
    "Рекомендований час: 5хв\n",
    "```"
   ]
  },
  {
   "cell_type": "code",
   "execution_count": 84,
   "metadata": {},
   "outputs": [
    {
     "data": {
      "image/png": "[encoded data removed]",
      "text/plain": [
       "<matplotlib.figure.Figure at 0x1cd58589630>"
      ]
     },
     "metadata": {},
     "output_type": "display_data"
    }
   ],
   "source": [
    "binomial_rv = sts.binom(20, 0.7)\n",
    "x = np.linspace(0,100,100)\n",
    "cdf = binomial_rv.cdf(x)\n",
    "plt.step(x, cdf)\n",
    "plt.title(\"Binomial distribution with 20 trials and 0.7 probability of successe\")\n",
    "plt.ylabel('$P(x)$')\n",
    "plt.xlabel('$x$')\n",
    "plt.show()"
   ]
  },
  {
   "cell_type": "markdown",
   "metadata": {
    "collapsed": true
   },
   "source": [
    "#### 9.4. Для вибірки з розподілу Пуассона:\n",
    "```\n",
    "```\n",
    "```\n",
    "```\n",
    "```\n",
    "```\n",
    "```\n",
    "Максимальна оцінка: 3 бали\n",
    "Рекомендований час: 5хв\n",
    "```"
   ]
  },
  {
   "cell_type": "code",
   "execution_count": 87,
   "metadata": {},
   "outputs": [
    {
     "data": {
      "image/png": "[encoded data removed]",
      "text/plain": [
       "<matplotlib.figure.Figure at 0x1cd5868c390>"
      ]
     },
     "metadata": {},
     "output_type": "display_data"
    }
   ],
   "source": [
    "poisson_rv = sts.poisson(5)\n",
    "x = np.linspace(-10, 100, 100)\n",
    "cdf = poisson_rv.cdf(x)\n",
    "plt.step(x, cdf)\n",
    "plt.title(\"Poisson distribution with lambda = 5\")\n",
    "plt.ylabel('$P(x)$')\n",
    "plt.xlabel('$x$')\n",
    "plt.show()"
   ]
  }
 ],
 "metadata": {
  "kernelspec": {
   "display_name": "Python 3",
   "language": "python",
   "name": "python3"
  },
  "language_info": {
   "codemirror_mode": {
    "name": "ipython",
    "version": 3
   },
   "file_extension": ".py",
   "mimetype": "text/x-python",
   "name": "python",
   "nbconvert_exporter": "python",
   "pygments_lexer": "ipython3",
   "version": "3.6.2"
  }
 },
 "nbformat": 4,
 "nbformat_minor": 2
}
